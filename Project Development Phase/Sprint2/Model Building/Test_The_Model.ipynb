{
 "cells": [
  {
   "cell_type": "code",
   "execution_count": 16,
   "id": "682b8b14",
   "metadata": {},
   "outputs": [],
   "source": [
    "import numpy as np#used for numerical analysis\n",
    "import tensorflow #open source used for both ML and DL for computation\n",
    "from tensorflow.keras.models import Sequential #it is a plain stack of layers\n",
    "from tensorflow.keras import layers #A layer consists of a tensor-in tensor-out computation function\n",
    "#Dense layer is the regular deeply connected neural network layer\n",
    "from tensorflow.keras.layers import Dense,Flatten\n",
    "#Faltten-used fot flattening the input or change the dimension\n",
    "from tensorflow.keras.layers import Conv2D,MaxPooling2D,Dropout #Convolutional layer\n",
    "#MaxPooling2D-for downsampling the image\n",
    "from keras.preprocessing.image import ImageDataGenerator"
   ]
  },
  {
   "cell_type": "code",
   "execution_count": 17,
   "id": "601093f5",
   "metadata": {},
   "outputs": [],
   "source": [
    "#setting parameter for Image Data agumentation to the training data\n",
    "train_datagen = ImageDataGenerator(rescale=1./255,shear_range=0.2,zoom_range=0.2,horizontal_flip=True)\n",
    "#Image Data agumentation to the testing data\n",
    "test_datagen=ImageDataGenerator(rescale=1./255)"
   ]
  },
  {
   "cell_type": "code",
   "execution_count": 18,
   "id": "d11b1163",
   "metadata": {},
   "outputs": [
    {
     "name": "stdout",
     "output_type": "stream",
     "text": [
      "Found 2626 images belonging to 5 classes.\n",
      "Found 1055 images belonging to 5 classes.\n"
     ]
    }
   ],
   "source": [
    "x_train = train_datagen.flow_from_directory(\n",
    "    r'F:\\IBM PROJECT\\Dataset\\TRAIN_SET',\n",
    "    target_size=(64, 64),batch_size=5,color_mode='rgb',class_mode='sparse')\n",
    "#performing data agumentation to test data\n",
    "x_test = test_datagen.flow_from_directory(\n",
    "    r'F:\\IBM PROJECT\\Dataset\\TEST_SET',\n",
    "    target_size=(64, 64),batch_size=5,color_mode='rgb',class_mode='sparse') "
   ]
  },
  {
   "cell_type": "code",
   "execution_count": 19,
   "id": "7c821bd7",
   "metadata": {},
   "outputs": [
    {
     "name": "stdout",
     "output_type": "stream",
     "text": [
      "{'APPLES': 0, 'BANANA': 1, 'ORANGE': 2, 'PINEAPPLE': 3, 'WATERMELON': 4}\n"
     ]
    }
   ],
   "source": [
    "print(x_train.class_indices)"
   ]
  },
  {
   "cell_type": "code",
   "execution_count": 20,
   "id": "9ebe49b8",
   "metadata": {},
   "outputs": [
    {
     "name": "stdout",
     "output_type": "stream",
     "text": [
      "{'APPLES': 0, 'BANANA': 1, 'ORANGE': 2, 'PINEAPPLE': 3, 'WATERMELON': 4}\n"
     ]
    }
   ],
   "source": [
    "print(x_test.class_indices)"
   ]
  },
  {
   "cell_type": "code",
   "execution_count": 21,
   "id": "7cf086f0",
   "metadata": {},
   "outputs": [
    {
     "data": {
      "text/plain": [
       "Counter({0: 606, 1: 445, 2: 479, 3: 621, 4: 475})"
      ]
     },
     "execution_count": 21,
     "metadata": {},
     "output_type": "execute_result"
    }
   ],
   "source": [
    "from collections import Counter as c\n",
    "c(x_train .labels)"
   ]
  },
  {
   "cell_type": "code",
   "execution_count": 22,
   "id": "c0aec8f8",
   "metadata": {},
   "outputs": [],
   "source": [
    "Classifier = Sequential()"
   ]
  },
  {
   "cell_type": "code",
   "execution_count": 23,
   "id": "b9f3749f",
   "metadata": {},
   "outputs": [],
   "source": [
    "classifier = Sequential()\n",
    "\n",
    "# First convolution layer and pooling\n",
    "classifier.add(Conv2D(32, (3, 3), input_shape=(64, 64, 3), activation='relu'))\n",
    "classifier.add(MaxPooling2D(pool_size=(2, 2)))\n",
    "\n",
    "# Second convolution layer and pooling\n",
    "classifier.add(Conv2D(32, (3, 3), activation='relu'))\n",
    "\n",
    "# input_shape is going to be the pooled feature maps from the previous convolution layer\n",
    "classifier.add(MaxPooling2D(pool_size=(2, 2)))\n",
    "\n",
    "# Flattening the layers\n",
    "classifier.add(Flatten())\n",
    "\n"
   ]
  },
  {
   "cell_type": "code",
   "execution_count": 24,
   "id": "50765b2b",
   "metadata": {},
   "outputs": [],
   "source": [
    "# Adding a fully connected layer\n",
    "classifier.add(Dense(units=128, activation='relu'))\n",
    "classifier.add(Dense(units=5, activation='softmax'))"
   ]
  },
  {
   "cell_type": "code",
   "execution_count": 25,
   "id": "066ec72d",
   "metadata": {},
   "outputs": [
    {
     "name": "stdout",
     "output_type": "stream",
     "text": [
      "Model: \"sequential_3\"\n",
      "_________________________________________________________________\n",
      "Layer (type)                 Output Shape              Param #   \n",
      "=================================================================\n",
      "conv2d_2 (Conv2D)            (None, 62, 62, 32)        896       \n",
      "_________________________________________________________________\n",
      "max_pooling2d_2 (MaxPooling2 (None, 31, 31, 32)        0         \n",
      "_________________________________________________________________\n",
      "conv2d_3 (Conv2D)            (None, 29, 29, 32)        9248      \n",
      "_________________________________________________________________\n",
      "max_pooling2d_3 (MaxPooling2 (None, 14, 14, 32)        0         \n",
      "_________________________________________________________________\n",
      "flatten_1 (Flatten)          (None, 6272)              0         \n",
      "_________________________________________________________________\n",
      "dense_4 (Dense)              (None, 128)               802944    \n",
      "_________________________________________________________________\n",
      "dense_5 (Dense)              (None, 5)                 645       \n",
      "=================================================================\n",
      "Total params: 813,733\n",
      "Trainable params: 813,733\n",
      "Non-trainable params: 0\n",
      "_________________________________________________________________\n"
     ]
    }
   ],
   "source": [
    "classifier.summary()#summary of our model"
   ]
  },
  {
   "cell_type": "code",
   "execution_count": 26,
   "id": "32a38871",
   "metadata": {},
   "outputs": [],
   "source": [
    "# Compiling the CNN\n",
    "# categorical_crossentropy for more than 2\n",
    "classifier.compile(optimizer='adam', loss='sparse_categorical_crossentropy', metrics=['accuracy']) "
   ]
  },
  {
   "cell_type": "code",
   "execution_count": 27,
   "id": "fb35ef27",
   "metadata": {},
   "outputs": [
    {
     "name": "stdout",
     "output_type": "stream",
     "text": [
      "Epoch 1/20\n",
      "526/526 [==============================] - 25s 44ms/step - loss: 0.1583 - accuracy: 0.9414 - val_loss: 0.0266 - val_accuracy: 0.9962\n",
      "Epoch 2/20\n",
      "526/526 [==============================] - 23s 43ms/step - loss: 5.1551e-04 - accuracy: 1.0000 - val_loss: 0.0174 - val_accuracy: 1.0000\n",
      "Epoch 3/20\n",
      "526/526 [==============================] - 23s 44ms/step - loss: 1.1825e-04 - accuracy: 1.0000 - val_loss: 0.0306 - val_accuracy: 0.9905\n",
      "Epoch 4/20\n",
      "526/526 [==============================] - 23s 44ms/step - loss: 7.3101e-05 - accuracy: 1.0000 - val_loss: 0.0246 - val_accuracy: 0.9877\n",
      "Epoch 5/20\n",
      "526/526 [==============================] - 23s 43ms/step - loss: 0.0781 - accuracy: 0.9810 - val_loss: 0.1792 - val_accuracy: 0.9725\n",
      "Epoch 6/20\n",
      "526/526 [==============================] - 23s 43ms/step - loss: 5.6112e-04 - accuracy: 1.0000 - val_loss: 0.0951 - val_accuracy: 0.9773\n",
      "Epoch 7/20\n",
      "526/526 [==============================] - 23s 43ms/step - loss: 6.4220e-05 - accuracy: 1.0000 - val_loss: 0.0869 - val_accuracy: 0.9773\n",
      "Epoch 8/20\n",
      "526/526 [==============================] - 23s 43ms/step - loss: 4.2534e-05 - accuracy: 1.0000 - val_loss: 0.0734 - val_accuracy: 0.9773\n",
      "Epoch 9/20\n",
      "526/526 [==============================] - 23s 44ms/step - loss: 2.0725e-05 - accuracy: 1.0000 - val_loss: 0.0744 - val_accuracy: 0.9773\n",
      "Epoch 10/20\n",
      "526/526 [==============================] - 23s 43ms/step - loss: 1.4592e-05 - accuracy: 1.0000 - val_loss: 0.0699 - val_accuracy: 0.9773\n",
      "Epoch 11/20\n",
      "526/526 [==============================] - 23s 43ms/step - loss: 1.1465e-05 - accuracy: 1.0000 - val_loss: 0.0601 - val_accuracy: 0.9773\n",
      "Epoch 12/20\n",
      "526/526 [==============================] - 23s 44ms/step - loss: 1.0197e-05 - accuracy: 1.0000 - val_loss: 0.0561 - val_accuracy: 0.9773\n",
      "Epoch 13/20\n",
      "526/526 [==============================] - 23s 43ms/step - loss: 5.1965e-06 - accuracy: 1.0000 - val_loss: 0.0578 - val_accuracy: 0.9773\n",
      "Epoch 14/20\n",
      "526/526 [==============================] - 23s 43ms/step - loss: 4.0563e-06 - accuracy: 1.0000 - val_loss: 0.0468 - val_accuracy: 0.9773\n",
      "Epoch 15/20\n",
      "526/526 [==============================] - 22s 42ms/step - loss: 2.8598e-06 - accuracy: 1.0000 - val_loss: 0.0431 - val_accuracy: 0.9773\n",
      "Epoch 16/20\n",
      "526/526 [==============================] - 22s 43ms/step - loss: 2.2045e-06 - accuracy: 1.0000 - val_loss: 0.0466 - val_accuracy: 0.9773\n",
      "Epoch 17/20\n",
      "526/526 [==============================] - 22s 42ms/step - loss: 1.5648e-06 - accuracy: 1.0000 - val_loss: 0.0385 - val_accuracy: 0.9773\n",
      "Epoch 18/20\n",
      "526/526 [==============================] - 22s 42ms/step - loss: 1.5759e-06 - accuracy: 1.0000 - val_loss: 0.0378 - val_accuracy: 0.9773\n",
      "Epoch 19/20\n",
      "526/526 [==============================] - 22s 43ms/step - loss: 9.5746e-07 - accuracy: 1.0000 - val_loss: 0.0383 - val_accuracy: 0.9782\n",
      "Epoch 20/20\n",
      "526/526 [==============================] - 19s 37ms/step - loss: 6.2799e-07 - accuracy: 1.0000 - val_loss: 0.0243 - val_accuracy: 0.9915\n"
     ]
    },
    {
     "data": {
      "text/plain": [
       "<tensorflow.python.keras.callbacks.History at 0x20ce4016e20>"
      ]
     },
     "execution_count": 27,
     "metadata": {},
     "output_type": "execute_result"
    }
   ],
   "source": [
    "classifier.fit_generator(\n",
    "        generator=x_train,steps_per_epoch = len(x_train),\n",
    "        epochs=20, validation_data=x_test,validation_steps = len(x_test))# No of images in test set"
   ]
  },
  {
   "cell_type": "code",
   "execution_count": 28,
   "id": "ee0b0aef",
   "metadata": {},
   "outputs": [],
   "source": [
    "classifier.save('nutrition.h5')"
   ]
  },
  {
   "cell_type": "code",
   "execution_count": 29,
   "id": "c36242fa",
   "metadata": {},
   "outputs": [],
   "source": [
    "from tensorflow.keras.models import load_model\n",
    "from keras.preprocessing import image\n",
    "model = load_model(\"nutrition.h5\")"
   ]
  },
  {
   "cell_type": "code",
   "execution_count": 33,
   "id": "6412a467",
   "metadata": {},
   "outputs": [],
   "source": [
    "img = image.load_img(r\"F:\\IBM PROJECT\\Flask\\Sample_Images\\Test_Image2.jpg\",\n",
    "                     grayscale=False,target_size= (64,64))#loading of the image\n",
    "x = image.img_to_array(img)#image to array\n",
    "x = np.expand_dims(x,axis = 0)"
   ]
  },
  {
   "cell_type": "code",
   "execution_count": 34,
   "id": "caaa9c8b",
   "metadata": {},
   "outputs": [
    {
     "data": {
      "text/plain": [
       "array([1], dtype=int64)"
      ]
     },
     "execution_count": 34,
     "metadata": {},
     "output_type": "execute_result"
    }
   ],
   "source": [
    "pred = model.predict_classes(x)#predicting the classes\n",
    "pred"
   ]
  },
  {
   "cell_type": "code",
   "execution_count": 35,
   "id": "474d97fe",
   "metadata": {},
   "outputs": [
    {
     "data": {
      "text/plain": [
       "'BANANA'"
      ]
     },
     "execution_count": 35,
     "metadata": {},
     "output_type": "execute_result"
    }
   ],
   "source": [
    "index=['APPLES', 'BANANA', 'ORANGE','PINEAPPLE','WATERMELON']\n",
    "result=str(index[pred[0]])\n",
    "result"
   ]
  },
  {
   "cell_type": "code",
   "execution_count": null,
   "id": "4d1a0303",
   "metadata": {},
   "outputs": [],
   "source": []
  }
 ],
 "metadata": {
  "kernelspec": {
   "display_name": "Python 3 (ipykernel)",
   "language": "python",
   "name": "python3"
  },
  "language_info": {
   "codemirror_mode": {
    "name": "ipython",
    "version": 3
   },
   "file_extension": ".py",
   "mimetype": "text/x-python",
   "name": "python",
   "nbconvert_exporter": "python",
   "pygments_lexer": "ipython3",
   "version": "3.9.12"
  }
 },
 "nbformat": 4,
 "nbformat_minor": 5
}
